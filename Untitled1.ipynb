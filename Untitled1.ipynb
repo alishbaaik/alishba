{
  "nbformat": 4,
  "nbformat_minor": 0,
  "metadata": {
    "colab": {
      "provenance": []
    },
    "kernelspec": {
      "name": "python3",
      "display_name": "Python 3"
    },
    "language_info": {
      "name": "python"
    }
  },
  "cells": [
    {
      "cell_type": "code",
      "execution_count": 9,
      "metadata": {
        "colab": {
          "base_uri": "https://localhost:8080/"
        },
        "id": "nGHnSkGExSU_",
        "outputId": "8660b4f5-a6b9-4ee7-84fe-f1460506b15a"
      },
      "outputs": [
        {
          "name": "stdout",
          "output_type": "stream",
          "text": [
            "enter student full nameALISHBA\n",
            "enter college nameAKHSS\n",
            "enter student dob [dd/mm/yy]11 AUG 2005\n",
            "enter student percentage90\n",
            "enter student GRADE [A*,A,B,C,D,F]A\n",
            "enter student full nameALISHBA KHAN\n",
            "enter college nameSHEIKH Z\n",
            "enter student dob [dd/mm/yy]12 NOV 2004\n",
            "enter student percentage80\n",
            "enter student GRADE [A*,A,B,C,D,F]A\n",
            "enter student full nameSAMAN \n",
            "enter college nameAA\n",
            "enter student dob [dd/mm/yy]22 SEP 2005\n",
            "enter student percentage80\n",
            "enter student GRADE [A*,A,B,C,D,F]A\n",
            "enter student full nameALISHBA KHAN\n",
            "enter college nameHH\n",
            "enter student dob [dd/mm/yy]10 AUG 2993\n",
            "enter student percentage80\n",
            "enter student GRADE [A*,A,B,C,D,F]B\n",
            "enter student full nameAFSAN\n",
            "enter college nameSIR SYED COLLEGE\n",
            "enter student dob [dd/mm/yy]4 JAN 2004\n",
            "enter student percentage90\n",
            "enter student GRADE [A*,A,B,C,D,F]A\n",
            "enter student full nameNARGIS\n",
            "enter college nameK\n",
            "enter student dob [dd/mm/yy]6 SEP 20003\n",
            "enter student percentage80\n",
            "enter student GRADE [A*,A,B,C,D,F]A\n",
            "enter student full nameMADIHA\n",
            "enter college nameI\n",
            "enter student dob [dd/mm/yy]7 AUG 2004\n",
            "enter student percentage80\n",
            "enter student GRADE [A*,A,B,C,D,F]S\n",
            "enter student full nameMANAAL\n",
            "enter college nameAKHSS\n",
            "enter student dob [dd/mm/yy]8 AUG 2003\n",
            "enter student percentage80\n",
            "enter student GRADE [A*,A,B,C,D,F]A\n",
            "enter student full nameALINA\n",
            "enter college nameAKHSS\n",
            "enter student dob [dd/mm/yy]8 SEP 2993\n",
            "enter student percentage80\n",
            "enter student GRADE [A*,A,B,C,D,F]A\n",
            "enter student full nameEASHA\n",
            "enter college nameK\n",
            "enter student dob [dd/mm/yy]8 SEP 2004\n",
            "enter student percentage60\n",
            "enter student GRADE [A*,A,B,C,D,F]A\n"
          ]
        }
      ],
      "source": [
        "std1=\"enter ALISHBA DETAILS\"\n",
        "std2=\"enter ALISHBA KHAN DETAILS\"\n",
        "std3=\"enter AFSAN DETAILS\"\n",
        "std4=\"enter SAMAN DETAILS\"\n",
        "std5=\"enter ALISHBA AHMED DETAILSF\"\n",
        "for _ in range(10):\n",
        "  std1=str(input(\"enter student full name\"))\n",
        "  std2=str(input(\"enter college name\"))\n",
        "  std3=str(input(\"enter student dob [dd/mm/yy]\"))\n",
        "  std4=float(input(\"enter student percentage\"))\n",
        "  std5=str(input(\"enter student GRADE [A*,A,B,C,D,F]\"))\n"
      ]
    },
    {
      "cell_type": "code",
      "source": [
        "for _ in range(5):\n",
        "  std1=float(input(\"enter percentages\"))"
      ],
      "metadata": {
        "colab": {
          "base_uri": "https://localhost:8080/"
        },
        "id": "Diyz8tUv5C2M",
        "outputId": "06174578-45ba-4e1c-a9cc-0e470bc1883b"
      },
      "execution_count": 11,
      "outputs": [
        {
          "name": "stdout",
          "output_type": "stream",
          "text": [
            "enter percentages80\n",
            "enter percentages60\n",
            "enter percentages40\n",
            "enter percentages90\n",
            "enter percentages60\n"
          ]
        }
      ]
    },
    {
      "cell_type": "code",
      "source": [
        "for _ in range(5):\n",
        "  std=int(input(\"enter age\"))\n",
        "\n",
        "  if std>=18:\n",
        "    print(\"elligible\")\n",
        "\n",
        "  else:\n",
        "    print(\"not elligible\")"
      ],
      "metadata": {
        "colab": {
          "base_uri": "https://localhost:8080/"
        },
        "id": "HkpwZl165a6L",
        "outputId": "1c182917-3e20-48cd-8061-d22896e6d6c0"
      },
      "execution_count": 14,
      "outputs": [
        {
          "output_type": "stream",
          "name": "stdout",
          "text": [
            "enter age18\n",
            "elligible\n",
            "enter age2\n",
            "not elligible\n",
            "enter age8\n",
            "not elligible\n",
            "enter age26\n",
            "elligible\n",
            "enter age8\n",
            "not elligible\n"
          ]
        }
      ]
    },
    {
      "cell_type": "code",
      "source": [
        "clg1=str(input(\"cld 1 name\"))\n",
        "clg2=str(input(\"cld 2 name\"))\n",
        "clg3=str(input(\"cld 3 name\"))\n",
        "clg4=str(input(\"cld 4 name\"))\n",
        "clg5=str(input(\"cld 5 name\"))"
      ],
      "metadata": {
        "colab": {
          "base_uri": "https://localhost:8080/"
        },
        "id": "sI570Y8W6Vii",
        "outputId": "b5c3155c-59c1-47c1-9320-8e7f5ea291a0"
      },
      "execution_count": 19,
      "outputs": [
        {
          "name": "stdout",
          "output_type": "stream",
          "text": [
            "cld 1 nameakhss\n",
            "cld 2 namesir syed\n",
            "cld 3 namesheikh k\n",
            "cld 4 nameiu\n",
            "cld 5 namedsu\n"
          ]
        }
      ]
    },
    {
      "cell_type": "code",
      "source": [
        "nam1=str(input(\"name 1\"))\n",
        "nam2=str(input(\"name 2\"))\n",
        "nam3=str(input(\"name 3\"))\n",
        "nam4=str(input(\"name 4\"))\n",
        "nam5=str(input(\"name 5\"))"
      ],
      "metadata": {
        "colab": {
          "base_uri": "https://localhost:8080/"
        },
        "id": "6hDZA_nf8ioT",
        "outputId": "02877d57-4ffb-4010-d9a3-9fd1905acc56"
      },
      "execution_count": 20,
      "outputs": [
        {
          "name": "stdout",
          "output_type": "stream",
          "text": [
            "name 1alishba iqbal\n",
            "name 2afsan\n",
            "name 3alishba khan\n",
            "name 4saman\n",
            "name 5alishba ahmed\n"
          ]
        }
      ]
    },
    {
      "cell_type": "code",
      "source": [
        "std_data=(input(\"enter a name\"))\n",
        "if (std_data==\"alishba iqbal\") or  (std_data==\"alishba iqbal khan\") or  (std_data==\"ALISHBA\"):\n",
        "  print(nam1,clg1)"
      ],
      "metadata": {
        "colab": {
          "base_uri": "https://localhost:8080/"
        },
        "id": "zpr3SA9J87Aj",
        "outputId": "ba89dafa-c870-4c6b-922a-d05ab341b1f6"
      },
      "execution_count": 24,
      "outputs": [
        {
          "output_type": "stream",
          "name": "stdout",
          "text": [
            "enter a namealishba iqbal\n",
            "alishba iqbal akhss\n"
          ]
        }
      ]
    },
    {
      "cell_type": "code",
      "source": [
        "print(\"------------WELCOME TO DARAZ----------\")\n",
        "print(\"login or sign up\")\n",
        "str1=str(input(\"enter your name please\"))\n",
        "str2=str(input(\"enter your email\"))\n",
        "int1=int(input(\"enter your number\"))\n",
        "str3=str(input(\"enter your country\"))\n",
        "print(\"first catagory has folowing items : \\n iphone10 \\n iphone12 \\n android40 \\n straightner \\n air fry \\n second catagory has following items: \\n sheet mask \\n soap \\n balm \\n green gloss \\n aloevera \\n the catagory three has following items: \\n burger \\n pizza \\n roll \\n ice cream \\n mnms \")\n",
        "catagory_1_electronics=str(input(\"enter first catagory product or press enter if u dont want to purchase from here\"))\n",
        "catagory_2_beauty=str(input(\"enter this catagory product or press enter if u dont want to purchase from here\"))\n",
        "catagory_3_food=str(input(\"enter this catagory product or press enter if u dont want to purchase from here\"))\n",
        "if(catagory_1_electronics==\"iphone12\" or catagory_1_electronics==\"air fry\" or catagory_1_electronics==\"iphone10\" or catagory_1_electronics==\"android40\"or catagory_1_electronics==\"straightner\" or catagory_2_beauty==\"soap\" or catagory_2_beauty==\"sheet mask\" or catagory_2_beauty==\"balm\" or catagory_2_beauty==\" green gloss\"or catagory_2_beauty==\"aloevera\" or catagory_3_food==\"burger\" or catagory_3_food==\"pizza\" or catagory_3_food==\"roll\" or catagory_3_food==\"ice cream\" or catagory_3_food==\"mnms\"):\n",
        "  print(\"you have purchased your chosen item\")\n",
        "print(\"------------THANKYOU FOR PURCHASING FROM DARAZ----------\")\n",
        "print(\"the item has been purchased by: \", str1)\n",
        "print(\"leave a review\")"
      ],
      "metadata": {
        "colab": {
          "base_uri": "https://localhost:8080/"
        },
        "id": "IXE2PZrA9tvz",
        "outputId": "6c0344f7-5dc8-4f8f-c869-2b50a86d1d5c"
      },
      "execution_count": 31,
      "outputs": [
        {
          "output_type": "stream",
          "name": "stdout",
          "text": [
            "------------WELCOME TO DARAZ----------\n",
            "login or sign up\n",
            "enter your name pleasealishba\n",
            "enter your emailalishba@\n",
            "enter your number0300\n",
            "enter your countryp\n",
            "first catagory has folowing items : \n",
            " iphone10 \n",
            " iphone12 \n",
            " android40 \n",
            " straightner \n",
            " air fry \n",
            " second catagory has following items: \n",
            " sheet mask \n",
            " soap \n",
            " balm \n",
            " green gloss \n",
            " aloevera \n",
            " the catagory three has following items: \n",
            " burger \n",
            " pizza \n",
            " roll \n",
            " ice cream \n",
            " mnms \n",
            "enter first catagory product or press enter if u dont want to purchase from here\n",
            "enter this catagory product or press enter if u dont want to purchase from here\n",
            "enter this catagory product or press enter if u dont want to purchase from herepizza\n",
            "you have purchased your chosen item\n",
            "------------THANKYOU FOR PURCHASING FROM DARAZ----------\n",
            "the item has been purchased by:  alishba\n",
            "leave a review\n"
          ]
        }
      ]
    },
    {
      "cell_type": "code",
      "source": [
        "print(\"you have two mobile sets \\n nokia1.0 and nokia 2.0\")\n",
        "print(\"both mobile sets cost:250000\")\n",
        "nokia1rating=500\n",
        "nokia2rating=600\n",
        "str1=str(input(\"enter your mobile set\"))\n",
        "if str==\"nokia1.0\":\n",
        "  print(\"efficient product, good rating\")\n",
        "else:\n",
        "  print(\"not efficient\")\n",
        "\n",
        ""
      ],
      "metadata": {
        "colab": {
          "base_uri": "https://localhost:8080/"
        },
        "id": "jh7ugl5UJXvb",
        "outputId": "c13ce605-e710-4fe4-fff3-24d8251a7398"
      },
      "execution_count": 50,
      "outputs": [
        {
          "output_type": "stream",
          "name": "stdout",
          "text": [
            "you have two mobile sets \n",
            " nokia1.0 and nokia 2.0\n",
            "both mobile sets cost:250000\n",
            "enter your mobile setnokia1.0\n",
            "not efficient\n"
          ]
        }
      ]
    }
  ]
}